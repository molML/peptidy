{
 "cells": [
  {
   "cell_type": "markdown",
   "metadata": {},
   "source": [
    "# XGBoost predictor on peptide descriptors\n",
    "\n",
    "In this notebook we demonstrate the application of `peptidy` in predicting antimicrobial peptides (AMPs) using XGBoost. `peptidy` is used for feature extraction from amino acid sequences, after which the XGBoost algorithm is used for classification. \n"
   ]
  },
  {
   "cell_type": "code",
   "execution_count": null,
   "metadata": {},
   "outputs": [],
   "source": [
    "import pandas as pd\n",
    "from peptidy.descriptors import compute_descriptors\n",
    "\n",
    "from sklearn.model_selection import train_test_split\n",
    "from sklearn.metrics import accuracy_score\n",
    "\n",
    "import xgboost as xgb"
   ]
  },
  {
   "cell_type": "markdown",
   "metadata": {},
   "source": [
    "### Load a dataframe with peptides"
   ]
  },
  {
   "cell_type": "code",
   "execution_count": null,
   "metadata": {},
   "outputs": [],
   "source": [
    "subsample_AMP = pd.read_csv('subsample_AMP.csv')\n",
    "\n",
    "X=subsample_AMP.drop('active',axis=1)\n",
    "y=subsample_AMP['active']"
   ]
  },
  {
   "cell_type": "markdown",
   "metadata": {},
   "source": [
    "### Encode and split the data "
   ]
  },
  {
   "cell_type": "code",
   "execution_count": null,
   "metadata": {},
   "outputs": [],
   "source": [
    "# Encode the data using peptidy\n",
    "X_encoded = subsample_AMP['sequence'].apply(compute_descriptors)\n",
    "X_encoded = pd.DataFrame(X_encoded.tolist(), index= X.index)\n",
    "\n",
    "# Split the data into training and testing sets\n",
    "X_train, X_test, y_train, y_test = train_test_split(X_encoded, y, test_size=0.2, random_state=42)"
   ]
  },
  {
   "cell_type": "markdown",
   "metadata": {},
   "source": [
    "### Define the model"
   ]
  },
  {
   "cell_type": "code",
   "execution_count": null,
   "metadata": {},
   "outputs": [],
   "source": [
    "def GB_model(n_estimators=10,\n",
    "             max_depth=10,\n",
    "             gamma=0.1,\n",
    "             reg_alpha=0.5, \n",
    "             min_child_weight=int(5), \n",
    "             colsample_bytree=0.1, \n",
    "             learning_rate=0.1,\n",
    "             subsample=0.9,\n",
    "             reg_lambda=0.5,\n",
    "             objective='binary:logistic',\n",
    "             eval_metric='logloss',): \n",
    "  \n",
    "    model=xgb.XGBClassifier(n_estimators =int(n_estimators), max_depth = int(max_depth), gamma = gamma,\n",
    "                           reg_alpha = reg_alpha,min_child_weight= min_child_weight,learning_rate=learning_rate,\n",
    "                           subsample=subsample,reg_lambda=reg_lambda,objective=objective,\n",
    "                           colsample_bytree=colsample_bytree, eval_metric=eval_metric)\n",
    "    return model"
   ]
  },
  {
   "cell_type": "markdown",
   "metadata": {},
   "source": [
    "### Fit the model to the data"
   ]
  },
  {
   "cell_type": "code",
   "execution_count": null,
   "metadata": {},
   "outputs": [],
   "source": [
    "model = GB_model(max_depth=10, n_estimators=7, gamma=0.5, learning_rate=0.001,\n",
    "                 subsample=0.8, reg_alpha=0.8, reg_lambda=1,\n",
    "                 min_child_weight=2, objective='binary:logistic', eval_metric='logloss',\n",
    "                 colsample_bytree=0.9)\n",
    "\n",
    "evaluation = [( X_train, y_train), ( X_test, y_test)]\n",
    "\n",
    "fitted_model=model.fit(X_train, y_train,\n",
    "    eval_set=evaluation,\n",
    "    verbose=0)"
   ]
  },
  {
   "cell_type": "markdown",
   "metadata": {},
   "source": [
    "### Evaluate the model"
   ]
  },
  {
   "cell_type": "code",
   "execution_count": null,
   "metadata": {},
   "outputs": [],
   "source": [
    "y_pred = model.predict(X_test)\n",
    "accuracy = accuracy_score(y_test, y_pred)\n",
    "print(accuracy)"
   ]
  }
 ],
 "metadata": {
  "language_info": {
   "name": "python"
  }
 },
 "nbformat": 4,
 "nbformat_minor": 2
}
