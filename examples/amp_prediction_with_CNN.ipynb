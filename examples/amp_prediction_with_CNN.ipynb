{
 "cells": [
  {
   "cell_type": "markdown",
   "metadata": {},
   "source": [
    "# CNN predictor in Keras using BLOSUM\n",
    "\n",
    "In this notebook we demonstrate the application of `peptidy` in predicting antimicrobial peptides (AMPs) using a convolutional neural network (CNN) set up in Keras. BLOSUM62 encoding for amino acid sequences is performed with `peptidy`, which is used as input for the CNN.\n",
    "\n"
   ]
  },
  {
   "cell_type": "code",
   "execution_count": null,
   "metadata": {},
   "outputs": [],
   "source": [
    "from tensorflow import keras\n",
    "from keras.models import Sequential\n",
    "from keras.layers import Dense, Conv1D, Flatten, Dropout, MaxPooling1D, Input\n",
    "\n",
    "from peptidy.encoding import blosum62_encoding\n",
    "from sklearn.model_selection import train_test_split\n",
    "\n",
    "import numpy as np\n",
    "import pandas as pd"
   ]
  },
  {
   "cell_type": "markdown",
   "metadata": {},
   "source": [
    "### Load a dataframe with peptides"
   ]
  },
  {
   "cell_type": "code",
   "execution_count": null,
   "metadata": {},
   "outputs": [],
   "source": [
    "subsample_AMP = pd.read_csv('subsample_AMP.csv')\n",
    "\n",
    "X=subsample_AMP.drop('active',axis=1)\n",
    "y=subsample_AMP['active']"
   ]
  },
  {
   "cell_type": "markdown",
   "metadata": {},
   "source": [
    "### Encode and split the data "
   ]
  },
  {
   "cell_type": "code",
   "execution_count": null,
   "metadata": {},
   "outputs": [],
   "source": [
    "# Encode the data using peptidy\n",
    "X_encoded = list()\n",
    "for i in range(0, len(subsample_AMP)):\n",
    "    X_encoded.append(blosum62_encoding(X['sequence'][i],padding_len=50))\n",
    "\n",
    "# Convert the list to a tensor\n",
    "X_encoded = np.array(X_encoded)\n",
    "\n",
    "# Split the data into training and testing sets\n",
    "X_train, X_test, y_train, y_test = train_test_split(X_encoded, y, test_size=0.2, random_state=42)\n"
   ]
  },
  {
   "cell_type": "markdown",
   "metadata": {},
   "source": [
    "### Define the model"
   ]
  },
  {
   "cell_type": "code",
   "execution_count": null,
   "metadata": {},
   "outputs": [],
   "source": [
    "def CNN_model(max_sequence_length,\n",
    "              len_encoding_vector=20,\n",
    "              kernel_size_1D_layers=3,\n",
    "              dropout=0.1,\n",
    "              n_dense_layers=2,\n",
    "              learning_rate=0.001, \n",
    "              loss='binary_crossentropy',\n",
    "              optimizer='adam',\n",
    "              metrics=['accuracy'],\n",
    "              n_1D_conv=5,\n",
    "              activation='relu',\n",
    "              n_filters=10,\n",
    "              n_dense_neurons=30): \n",
    "\n",
    "    # Define the length of the input sequence and the number of possible amino acids\n",
    "    input_length=int(max_sequence_length)\n",
    "    model=Sequential()\n",
    "    model.add(Input(shape=(input_length, len_encoding_vector)))\n",
    "    for layer_ix in range(n_1D_conv):\n",
    "        model.add(Conv1D(filters=(layer_ix + 1) * n_filters, kernel_size=kernel_size_1D_layers, activation=activation,padding='same'))\n",
    "        model.add(Dropout(dropout))\n",
    "        \n",
    "    model.add(MaxPooling1D())\n",
    "    model.add(Flatten())\n",
    "    \n",
    "    for layer_ix in range(n_dense_layers):\n",
    "            model.add(Dense(\n",
    "                max(n_dense_neurons // (2**layer_ix), 1),\n",
    "                activation='relu',\n",
    "            ))\n",
    "            model.add(Dropout(dropout))\n",
    "    model.add(Dense(1,activation='sigmoid'))\n",
    "\n",
    "    # Compile the model with binary crossentropy loss function and adam optimizer\n",
    "    opt = keras.optimizers.Adam(learning_rate=learning_rate)\n",
    "    model.compile(loss=loss, optimizer=opt, metrics=['accuracy',keras.metrics.Precision(), keras.metrics.Recall()])\n",
    "    return model\n"
   ]
  },
  {
   "cell_type": "markdown",
   "metadata": {},
   "source": [
    "### Train the model"
   ]
  },
  {
   "cell_type": "code",
   "execution_count": null,
   "metadata": {},
   "outputs": [],
   "source": [
    "model = CNN_model(max_sequence_length=50, len_encoding_vector=21, kernel_size_1D_layers=7, dropout=0.2, n_dense_layers=5, learning_rate=0.0001, \n",
    "                  loss='binary_crossentropy', optimizer='adam', metrics=['accuracy'], n_1D_conv=2, activation='relu', n_filters=2, n_dense_neurons=32)\n",
    "model.fit(X_train, y_train, epochs=20, batch_size=30,verbose=0)"
   ]
  },
  {
   "cell_type": "markdown",
   "metadata": {},
   "source": [
    "### Evaluate the model"
   ]
  },
  {
   "cell_type": "code",
   "execution_count": null,
   "metadata": {},
   "outputs": [],
   "source": [
    "loss, accuracy, precision, recall = model.evaluate(X_test, y_test)\n",
    "print(accuracy)"
   ]
  }
 ],
 "metadata": {
  "kernelspec": {
   "display_name": "8dm50",
   "language": "python",
   "name": "python3"
  },
  "language_info": {
   "codemirror_mode": {
    "name": "ipython",
    "version": 3
   },
   "file_extension": ".py",
   "mimetype": "text/x-python",
   "name": "python",
   "nbconvert_exporter": "python",
   "pygments_lexer": "ipython3",
   "version": "3.6.13"
  }
 },
 "nbformat": 4,
 "nbformat_minor": 2
}
